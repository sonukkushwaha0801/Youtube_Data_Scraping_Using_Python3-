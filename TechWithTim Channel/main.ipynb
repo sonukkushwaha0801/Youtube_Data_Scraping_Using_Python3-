{
 "cells": [
  {
   "cell_type": "code",
   "execution_count": 12,
   "metadata": {},
   "outputs": [],
   "source": [
    "from selenium import webdriver\n",
    "from selenium.webdriver.common.by import By\n",
    "from selenium.webdriver.common.keys import Keys\n",
    "from bs4 import BeautifulSoup\n",
    "import time \n",
    "import pandas as pd"
   ]
  },
  {
   "cell_type": "code",
   "execution_count": 13,
   "metadata": {},
   "outputs": [
    {
     "name": "stdout",
     "output_type": "stream",
     "text": [
      "Tech With Tim - YouTube\n"
     ]
    }
   ],
   "source": [
    "driver = webdriver.Chrome()\n",
    "driver.get('https://www.youtube.com/@TechWithTim/videos')\n",
    "driver.maximize_window()\n",
    "body = driver.find_element(By.CSS_SELECTOR,\"body\")\n",
    "no_of_video = driver.find_element(By.CSS_SELECTOR,\"#videos-count > span:nth-child(1)\").text\n",
    "screen_up = round(int(no_of_video)/28)\n",
    "for _ in range(screen_up):\n",
    "    body.send_keys(Keys.END)\n",
    "    time.sleep(3)\n",
    "html = driver.page_source\n",
    "print(driver.title)\n",
    "driver.quit()"
   ]
  },
  {
   "cell_type": "code",
   "execution_count": 18,
   "metadata": {},
   "outputs": [
    {
     "data": {
      "text/plain": [
       "33"
      ]
     },
     "execution_count": 18,
     "metadata": {},
     "output_type": "execute_result"
    }
   ],
   "source": [
    "round(int(no_of_video)/28)"
   ]
  },
  {
   "cell_type": "code",
   "execution_count": 14,
   "metadata": {},
   "outputs": [],
   "source": [
    "soup = BeautifulSoup(html, 'html.parser') \n",
    "videos = soup.findAll('div',{'id':'dismissible'})"
   ]
  },
  {
   "cell_type": "code",
   "execution_count": 15,
   "metadata": {},
   "outputs": [],
   "source": [
    "master_list =[]\n",
    "for video in videos:\n",
    "    dict1={}\n",
    "    dict1[\"Title\"] = video.find('yt-formatted-string',{'id':'video-title'}).text\n",
    "    dict1[\"Link\"] = 'https://www.youtube.com' + video.find('a',{'id':'video-title-link'})['href']\n",
    "    meta = video.find('div',{'id':'metadata-line'}).find_all('span')\n",
    "    dict1[\"Views\"] = meta[0].text\n",
    "    dict1[\"Uploaded_by\"] = meta[1].text\n",
    "    dict1[\"Time_duration\"] = (video.find('span',{'id':'text'}).text).replace('\\n','')\n",
    "    master_list.append(dict1)"
   ]
  },
  {
   "cell_type": "code",
   "execution_count": 16,
   "metadata": {},
   "outputs": [],
   "source": [
    "video_csv = pd.DataFrame(master_list)"
   ]
  },
  {
   "cell_type": "code",
   "execution_count": 17,
   "metadata": {},
   "outputs": [],
   "source": [
    "video_csv.to_csv('TechWithTim - Youtube.csv',index=False)"
   ]
  },
  {
   "cell_type": "code",
   "execution_count": null,
   "metadata": {},
   "outputs": [],
   "source": []
  }
 ],
 "metadata": {
  "kernelspec": {
   "display_name": "Python 3",
   "language": "python",
   "name": "python3"
  },
  "language_info": {
   "codemirror_mode": {
    "name": "ipython",
    "version": 3
   },
   "file_extension": ".py",
   "mimetype": "text/x-python",
   "name": "python",
   "nbconvert_exporter": "python",
   "pygments_lexer": "ipython3",
   "version": "3.11.5"
  }
 },
 "nbformat": 4,
 "nbformat_minor": 2
}
